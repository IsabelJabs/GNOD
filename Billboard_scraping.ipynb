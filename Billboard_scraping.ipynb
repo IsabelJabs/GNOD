{
 "cells": [
  {
   "cell_type": "code",
   "execution_count": 3,
   "id": "involved-silver",
   "metadata": {},
   "outputs": [],
   "source": [
    "from bs4 import BeautifulSoup\n",
    "import requests\n",
    "#import requests\n",
    "import pandas as pd\n",
    "\n",
    "# 2. find url and store it in avariable\n",
    "url = \"https://www.billboard.com/charts/hot-100\"\n",
    "\n",
    "# 3. download html with a get request\n",
    "response = requests.get(url)"
   ]
  },
  {
   "cell_type": "code",
   "execution_count": 4,
   "id": "affiliated-dancing",
   "metadata": {},
   "outputs": [
    {
     "data": {
      "text/plain": [
       "200"
      ]
     },
     "execution_count": 4,
     "metadata": {},
     "output_type": "execute_result"
    }
   ],
   "source": [
    "response.status_code"
   ]
  },
  {
   "cell_type": "code",
   "execution_count": 5,
   "id": "accomplished-influence",
   "metadata": {},
   "outputs": [],
   "source": [
    "soup = BeautifulSoup(response.content, 'html.parser')"
   ]
  },
  {
   "cell_type": "code",
   "execution_count": 11,
   "id": "fresh-requirement",
   "metadata": {},
   "outputs": [
    {
     "data": {
      "text/plain": [
       "'Rapstar'"
      ]
     },
     "execution_count": 11,
     "metadata": {},
     "output_type": "execute_result"
    }
   ],
   "source": [
    "soup.select(\"span.chart-element__information__song\")[0].text"
   ]
  },
  {
   "cell_type": "code",
   "execution_count": 12,
   "id": "bulgarian-airplane",
   "metadata": {},
   "outputs": [
    {
     "data": {
      "text/plain": [
       "'Polo G'"
      ]
     },
     "execution_count": 12,
     "metadata": {},
     "output_type": "execute_result"
    }
   ],
   "source": [
    "soup.select(\"span.chart-element__information__artist\")[0].text"
   ]
  },
  {
   "cell_type": "code",
   "execution_count": 21,
   "id": "durable-regard",
   "metadata": {},
   "outputs": [
    {
     "data": {
      "text/plain": [
       "'4'"
      ]
     },
     "execution_count": 21,
     "metadata": {},
     "output_type": "execute_result"
    }
   ],
   "source": [
    "soup.select(\"span.chart-element__rank__number\")[3].text"
   ]
  },
  {
   "cell_type": "code",
   "execution_count": 27,
   "id": "military-sierra",
   "metadata": {},
   "outputs": [],
   "source": [
    "#song_lst = soup.select(\"ol.chart-list__element a\")"
   ]
  },
  {
   "cell_type": "code",
   "execution_count": 30,
   "id": "hearing-disorder",
   "metadata": {},
   "outputs": [],
   "source": [
    "song_lst=soup.select(\"span.chart-element__information__song\")"
   ]
  },
  {
   "cell_type": "code",
   "execution_count": 31,
   "id": "molecular-marketing",
   "metadata": {},
   "outputs": [
    {
     "data": {
      "text/plain": [
       "100"
      ]
     },
     "execution_count": 31,
     "metadata": {},
     "output_type": "execute_result"
    }
   ],
   "source": [
    "len(song_lst)"
   ]
  },
  {
   "cell_type": "code",
   "execution_count": 39,
   "id": "earned-groove",
   "metadata": {},
   "outputs": [],
   "source": [
    "title = []\n",
    "artist = []\n",
    "rank = []\n",
    "\n",
    "len_songs = len(song_lst)\n",
    "\n",
    "for i in range(len_songs):\n",
    "    title.append(soup.select(\"span.chart-element__information__song\")[i].text)\n",
    "    artist.append(soup.select(\"span.chart-element__information__artist\")[i].text)\n",
    "    rank.append(soup.select(\"span.chart-element__rank__number\")[i].text)"
   ]
  },
  {
   "cell_type": "code",
   "execution_count": 45,
   "id": "sporting-bracelet",
   "metadata": {},
   "outputs": [],
   "source": [
    "songs = pd.DataFrame({'title' : title,\n",
    "                      'artist' : artist,\n",
    "                      'rank' : rank })"
   ]
  },
  {
   "cell_type": "code",
   "execution_count": 46,
   "id": "legendary-drawing",
   "metadata": {},
   "outputs": [
    {
     "data": {
      "text/html": [
       "<div>\n",
       "<style scoped>\n",
       "    .dataframe tbody tr th:only-of-type {\n",
       "        vertical-align: middle;\n",
       "    }\n",
       "\n",
       "    .dataframe tbody tr th {\n",
       "        vertical-align: top;\n",
       "    }\n",
       "\n",
       "    .dataframe thead th {\n",
       "        text-align: right;\n",
       "    }\n",
       "</style>\n",
       "<table border=\"1\" class=\"dataframe\">\n",
       "  <thead>\n",
       "    <tr style=\"text-align: right;\">\n",
       "      <th></th>\n",
       "      <th>title</th>\n",
       "      <th>artist</th>\n",
       "      <th>rank</th>\n",
       "    </tr>\n",
       "  </thead>\n",
       "  <tbody>\n",
       "    <tr>\n",
       "      <th>0</th>\n",
       "      <td>Rapstar</td>\n",
       "      <td>Polo G</td>\n",
       "      <td>1</td>\n",
       "    </tr>\n",
       "    <tr>\n",
       "      <th>1</th>\n",
       "      <td>Leave The Door Open</td>\n",
       "      <td>Silk Sonic (Bruno Mars &amp; Anderson .Paak)</td>\n",
       "      <td>2</td>\n",
       "    </tr>\n",
       "    <tr>\n",
       "      <th>2</th>\n",
       "      <td>Peaches</td>\n",
       "      <td>Justin Bieber Featuring Daniel Caesar &amp; Giveon</td>\n",
       "      <td>3</td>\n",
       "    </tr>\n",
       "    <tr>\n",
       "      <th>3</th>\n",
       "      <td>Montero (Call Me By Your Name)</td>\n",
       "      <td>Lil Nas X</td>\n",
       "      <td>4</td>\n",
       "    </tr>\n",
       "    <tr>\n",
       "      <th>4</th>\n",
       "      <td>Levitating</td>\n",
       "      <td>Dua Lipa Featuring DaBaby</td>\n",
       "      <td>5</td>\n",
       "    </tr>\n",
       "    <tr>\n",
       "      <th>...</th>\n",
       "      <td>...</td>\n",
       "      <td>...</td>\n",
       "      <td>...</td>\n",
       "    </tr>\n",
       "    <tr>\n",
       "      <th>95</th>\n",
       "      <td>Go!</td>\n",
       "      <td>Moneybagg Yo Featuring BIG30</td>\n",
       "      <td>96</td>\n",
       "    </tr>\n",
       "    <tr>\n",
       "      <th>96</th>\n",
       "      <td>Drankin N Smokin</td>\n",
       "      <td>Future &amp; Lil Uzi Vert</td>\n",
       "      <td>97</td>\n",
       "    </tr>\n",
       "    <tr>\n",
       "      <th>97</th>\n",
       "      <td>Monsters</td>\n",
       "      <td>All Time Low Featuring Demi Lovato &amp; blackbear</td>\n",
       "      <td>98</td>\n",
       "    </tr>\n",
       "    <tr>\n",
       "      <th>98</th>\n",
       "      <td>Slatty</td>\n",
       "      <td>Young Thug &amp; Gunna Featuring Yak Gotti &amp; Lil Duke</td>\n",
       "      <td>99</td>\n",
       "    </tr>\n",
       "    <tr>\n",
       "      <th>99</th>\n",
       "      <td>4 Da Gang</td>\n",
       "      <td>42 Dugg &amp; Roddy Ricch</td>\n",
       "      <td>100</td>\n",
       "    </tr>\n",
       "  </tbody>\n",
       "</table>\n",
       "<p>100 rows × 3 columns</p>\n",
       "</div>"
      ],
      "text/plain": [
       "                             title  \\\n",
       "0                          Rapstar   \n",
       "1              Leave The Door Open   \n",
       "2                          Peaches   \n",
       "3   Montero (Call Me By Your Name)   \n",
       "4                       Levitating   \n",
       "..                             ...   \n",
       "95                             Go!   \n",
       "96                Drankin N Smokin   \n",
       "97                        Monsters   \n",
       "98                          Slatty   \n",
       "99                       4 Da Gang   \n",
       "\n",
       "                                               artist rank  \n",
       "0                                              Polo G    1  \n",
       "1            Silk Sonic (Bruno Mars & Anderson .Paak)    2  \n",
       "2      Justin Bieber Featuring Daniel Caesar & Giveon    3  \n",
       "3                                           Lil Nas X    4  \n",
       "4                           Dua Lipa Featuring DaBaby    5  \n",
       "..                                                ...  ...  \n",
       "95                       Moneybagg Yo Featuring BIG30   96  \n",
       "96                              Future & Lil Uzi Vert   97  \n",
       "97    All Time Low Featuring Demi Lovato & blackbear    98  \n",
       "98  Young Thug & Gunna Featuring Yak Gotti & Lil Duke   99  \n",
       "99                              42 Dugg & Roddy Ricch  100  \n",
       "\n",
       "[100 rows x 3 columns]"
      ]
     },
     "execution_count": 46,
     "metadata": {},
     "output_type": "execute_result"
    }
   ],
   "source": [
    "songs"
   ]
  },
  {
   "cell_type": "code",
   "execution_count": 49,
   "id": "experienced-twist",
   "metadata": {},
   "outputs": [],
   "source": [
    "songs.to_csv('billboard_top100.csv')"
   ]
  },
  {
   "cell_type": "code",
   "execution_count": null,
   "id": "unexpected-attraction",
   "metadata": {},
   "outputs": [],
   "source": []
  }
 ],
 "metadata": {
  "kernelspec": {
   "display_name": "Python 3",
   "language": "python",
   "name": "python3"
  },
  "language_info": {
   "codemirror_mode": {
    "name": "ipython",
    "version": 3
   },
   "file_extension": ".py",
   "mimetype": "text/x-python",
   "name": "python",
   "nbconvert_exporter": "python",
   "pygments_lexer": "ipython3",
   "version": "3.8.8"
  }
 },
 "nbformat": 4,
 "nbformat_minor": 5
}
