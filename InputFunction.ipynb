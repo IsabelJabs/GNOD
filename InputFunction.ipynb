{
 "cells": [
  {
   "cell_type": "code",
   "execution_count": null,
   "id": "pacific-violation",
   "metadata": {},
   "outputs": [],
   "source": [
    "#random.choice([x for x in range(11) if x != 5])"
   ]
  },
  {
   "cell_type": "code",
   "execution_count": null,
   "id": "superior-picking",
   "metadata": {},
   "outputs": [],
   "source": [
    "#recommendation = random.choice(hot_list)\n",
    "random.choice([random.choice(hot_list) if song=!random.choice(hot_list)])\n",
    "#if recommendation =! song \n",
    "#print... "
   ]
  },
  {
   "cell_type": "code",
   "execution_count": 6,
   "id": "quick-slave",
   "metadata": {},
   "outputs": [],
   "source": [
    "import pandas as pd"
   ]
  },
  {
   "cell_type": "code",
   "execution_count": 10,
   "id": "chronic-sculpture",
   "metadata": {},
   "outputs": [],
   "source": [
    "df= pd.read_csv('billboard_top100.csv')"
   ]
  },
  {
   "cell_type": "code",
   "execution_count": 21,
   "id": "infectious-steps",
   "metadata": {},
   "outputs": [],
   "source": [
    "hot100_lst = list(df['title'].unique())"
   ]
  },
  {
   "cell_type": "code",
   "execution_count": 17,
   "id": "activated-carrier",
   "metadata": {},
   "outputs": [
    {
     "name": "stdout",
     "output_type": "stream",
     "text": [
      "Name a song!Rapstar\n"
     ]
    }
   ],
   "source": [
    "song=input(\"Name a song!\")"
   ]
  },
  {
   "cell_type": "code",
   "execution_count": null,
   "id": "occupied-publicity",
   "metadata": {},
   "outputs": [],
   "source": [
    "invalid_inputs = [' ', '']\n",
    "\n",
    "if song in invalid_inputs:\n",
    "    print('This is not a valid input. Please enter a song title.')\n",
    "else:\n",
    "    recommendations(song)"
   ]
  },
  {
   "cell_type": "code",
   "execution_count": null,
   "id": "deadly-biography",
   "metadata": {},
   "outputs": [],
   "source": [
    "import difflib\n",
    "\n",
    "print('Ups, smth went wrong, did you mean:', difflib.get_close_matches(song, hot100_lst))"
   ]
  },
  {
   "cell_type": "code",
   "execution_count": null,
   "id": "architectural-affiliate",
   "metadata": {},
   "outputs": [],
   "source": []
  },
  {
   "cell_type": "code",
   "execution_count": 18,
   "id": "suitable-ebony",
   "metadata": {},
   "outputs": [
    {
     "data": {
      "text/plain": [
       "'Rapstar'"
      ]
     },
     "execution_count": 18,
     "metadata": {},
     "output_type": "execute_result"
    }
   ],
   "source": [
    "song"
   ]
  },
  {
   "cell_type": "markdown",
   "id": "geological-typing",
   "metadata": {},
   "source": [
    "## Architecture"
   ]
  },
  {
   "cell_type": "markdown",
   "id": "nuclear-fountain",
   "metadata": {},
   "source": [
    "* User interaction together in the same notebook with database generation?\n",
    "    * database refreshing / scraping when? Probably not everytime a user is prompted to input a song\n",
    "* where do we store scraped songs? Preferably in `/data`"
   ]
  },
  {
   "cell_type": "markdown",
   "id": "acquired-compact",
   "metadata": {},
   "source": [
    "## Logic"
   ]
  },
  {
   "cell_type": "markdown",
   "id": "certified-composer",
   "metadata": {},
   "source": [
    "* recommendation? Maybe alway different songs from the database\n",
    "* song not in list\n",
    "* title appears mutiple times in database\n",
    "* Invalid inputs?\n",
    "    * Typos?\n",
    "    * What if user doesn't enter anything?"
   ]
  },
  {
   "cell_type": "markdown",
   "id": "wrapped-arcade",
   "metadata": {},
   "source": [
    "## Testing "
   ]
  },
  {
   "cell_type": "markdown",
   "id": "partial-bradford",
   "metadata": {},
   "source": [
    "* Does your program work if you test it with your peers?"
   ]
  },
  {
   "cell_type": "code",
   "execution_count": null,
   "id": "freelance-northeast",
   "metadata": {},
   "outputs": [],
   "source": [
    "import random\n",
    "def recommendations(x):\n",
    "    if song.lower() in hot100_lst:\n",
    "        print('recommend: ', random.choice(hot100_lst))\n",
    "    else:\n",
    "        print('Not a hot song. No recommendation available.')"
   ]
  },
  {
   "cell_type": "code",
   "execution_count": 30,
   "id": "activated-foundation",
   "metadata": {},
   "outputs": [],
   "source": [
    "recommendations(song)"
   ]
  },
  {
   "cell_type": "code",
   "execution_count": null,
   "id": "moral-cisco",
   "metadata": {},
   "outputs": [],
   "source": []
  },
  {
   "cell_type": "code",
   "execution_count": null,
   "id": "parental-festival",
   "metadata": {},
   "outputs": [],
   "source": []
  },
  {
   "cell_type": "code",
   "execution_count": null,
   "id": "checked-necklace",
   "metadata": {},
   "outputs": [],
   "source": []
  },
  {
   "cell_type": "code",
   "execution_count": null,
   "id": "royal-policy",
   "metadata": {},
   "outputs": [],
   "source": [
    "```python\n",
    "\n",
    "def scrape_top100(url, save_to_csv=False, show_progress=False):\n",
    "\n",
    "    for i in tqdm(    , disable=show_progress):\n",
    "        \n",
    "        # scraping here\n",
    "    \n",
    "    \n",
    "    \n",
    "    if save_to_csv:\n",
    "        df.to_csv('top100.csv')\n",
    "```    \n",
    "    "
   ]
  }
 ],
 "metadata": {
  "kernelspec": {
   "display_name": "Python 3",
   "language": "python",
   "name": "python3"
  },
  "language_info": {
   "codemirror_mode": {
    "name": "ipython",
    "version": 3
   },
   "file_extension": ".py",
   "mimetype": "text/x-python",
   "name": "python",
   "nbconvert_exporter": "python",
   "pygments_lexer": "ipython3",
   "version": "3.8.8"
  }
 },
 "nbformat": 4,
 "nbformat_minor": 5
}
